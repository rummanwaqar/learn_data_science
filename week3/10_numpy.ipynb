{
 "cells": [
  {
   "cell_type": "markdown",
   "metadata": {
    "deletable": false,
    "nbgrader": {
     "grade": false,
     "grade_id": "cell-d95c49d43afa9cf5",
     "locked": true,
     "schema_version": 1,
     "solution": false
    }
   },
   "source": [
    "# Part 0: Intro to Numpy/Scipy\n",
    "\n",
    "[Numpy](http://www.numpy.org/) is a Python module that provides fast primitives for multidimensional arrays. It's well-suited to implementing numerical linear algebra algorithms, and for those can be much faster than Python's native list and dictionary types when you only need to store and operate on numerical data.\n",
    "\n",
    "Some of the material from this lesson is copied from the following, and more comprehensive, tutorial: [link](http://www.scipy-lectures.org/intro/numpy/index.html)"
   ]
  },
  {
   "cell_type": "markdown",
   "metadata": {
    "nbgrader": {
     "grade": false,
     "grade_id": "cell-8d1656231e9af5be",
     "locked": true,
     "schema_version": 1,
     "solution": false
    }
   },
   "source": [
    "**Quick demo.** The recommended importing idiom is:"
   ]
  },
  {
   "cell_type": "code",
   "execution_count": 1,
   "metadata": {
    "nbgrader": {
     "grade": false,
     "grade_id": "cell-846ef2892d749d83",
     "locked": true,
     "schema_version": 1,
     "solution": false
    }
   },
   "outputs": [
    {
     "name": "stdout",
     "output_type": "stream",
     "text": [
      "1.15.4\n"
     ]
    }
   ],
   "source": [
    "import numpy as np\n",
    "print(np.__version__)"
   ]
  },
  {
   "cell_type": "markdown",
   "metadata": {
    "deletable": false,
    "nbgrader": {
     "grade": false,
     "grade_id": "cell-5a7dbee2c730c482",
     "locked": true,
     "schema_version": 1,
     "solution": false
    }
   },
   "source": [
    "## Creating a simple numpy array"
   ]
  },
  {
   "cell_type": "code",
   "execution_count": 2,
   "metadata": {
    "nbgrader": {
     "grade": false,
     "locked": true,
     "solution": false
    }
   },
   "outputs": [
    {
     "name": "stdout",
     "output_type": "stream",
     "text": [
      "[1 2 3 4]\n"
     ]
    }
   ],
   "source": [
    "a = np.array([1,2,3,4])\n",
    "print(a)"
   ]
  },
  {
   "cell_type": "markdown",
   "metadata": {
    "nbgrader": {
     "grade": false,
     "locked": true,
     "solution": false
    }
   },
   "source": [
    "## Why bother with Numpy? A motivating example\n",
    "\n",
    "We already have lists and dictionary types, which are pretty easy to use and very flexible. So why bother with this special type?\n",
    "\n",
    "One reason to consider Numpy is that it \"can be much faster,\" as noted above. But how much faster is that? Run the experiment below to see."
   ]
  },
  {
   "cell_type": "code",
   "execution_count": 3,
   "metadata": {
    "nbgrader": {
     "grade": false,
     "locked": true,
     "solution": false
    }
   },
   "outputs": [],
   "source": [
    "n = 1000000"
   ]
  },
  {
   "cell_type": "code",
   "execution_count": 4,
   "metadata": {
    "nbgrader": {
     "grade": false,
     "locked": true,
     "solution": false
    }
   },
   "outputs": [
    {
     "name": "stdout",
     "output_type": "stream",
     "text": [
      "422 ms ± 4.03 ms per loop (mean ± std. dev. of 7 runs, 1 loop each)\n"
     ]
    }
   ],
   "source": [
    "L = range(n)\n",
    "%timeit [i**2 for i in L]"
   ]
  },
  {
   "cell_type": "code",
   "execution_count": 5,
   "metadata": {
    "nbgrader": {
     "grade": false,
     "locked": true,
     "solution": false
    }
   },
   "outputs": [
    {
     "data": {
      "text/plain": [
       "array([0, 1, 2, 3, 4, 5, 6, 7, 8, 9])"
      ]
     },
     "execution_count": 5,
     "metadata": {},
     "output_type": "execute_result"
    }
   ],
   "source": [
    "np.arange(10) # Moral equivalent to `range`"
   ]
  },
  {
   "cell_type": "code",
   "execution_count": 6,
   "metadata": {
    "nbgrader": {
     "grade": false,
     "locked": true,
     "solution": false
    }
   },
   "outputs": [
    {
     "name": "stdout",
     "output_type": "stream",
     "text": [
      "2.56 ms ± 21.4 µs per loop (mean ± std. dev. of 7 runs, 100 loops each)\n"
     ]
    }
   ],
   "source": [
    "A = np.arange(n)\n",
    "%timeit A**2"
   ]
  },
  {
   "cell_type": "markdown",
   "metadata": {
    "nbgrader": {
     "grade": false,
     "grade_id": "cell-5783a1fb911dd611",
     "locked": true,
     "schema_version": 1,
     "solution": false
    }
   },
   "source": [
    "## Creating multidimensional arrays\n",
    "\n",
    "Beyond simple arrays, Numpy supports multidimensional arrays. To do more than one dimension, call `numpy.array()` but nest each new dimension within a list. It's easiest to see by example."
   ]
  },
  {
   "cell_type": "code",
   "execution_count": 7,
   "metadata": {
    "nbgrader": {
     "grade": false,
     "locked": true,
     "solution": false
    }
   },
   "outputs": [
    {
     "name": "stdout",
     "output_type": "stream",
     "text": [
      "[[ 0  1  2  3]\n",
      " [ 4  5  6  7]\n",
      " [ 8  9 10 11]]\n"
     ]
    }
   ],
   "source": [
    "# Create a two-dimensional array of size 3 rows x 4 columns:\n",
    "B = np.array([[0, 1, 2, 3],\n",
    "              [4, 5, 6, 7],\n",
    "              [8, 9, 10, 11]])\n",
    "\n",
    "print(B)"
   ]
  },
  {
   "cell_type": "code",
   "execution_count": 8,
   "metadata": {
    "nbgrader": {
     "grade": false,
     "locked": true,
     "solution": false
    }
   },
   "outputs": [
    {
     "name": "stdout",
     "output_type": "stream",
     "text": [
      "2\n",
      "(3, 4)\n",
      "3\n"
     ]
    }
   ],
   "source": [
    "print(B.ndim) # What does this do?\n",
    "print(B.shape) # What does this do?\n",
    "print(len (B)) # What does this do?"
   ]
  },
  {
   "cell_type": "code",
   "execution_count": 9,
   "metadata": {
    "nbgrader": {
     "grade": false,
     "locked": true,
     "solution": false
    }
   },
   "outputs": [
    {
     "name": "stdout",
     "output_type": "stream",
     "text": [
      "[[[ 0  1  2  3]\n",
      "  [ 4  5  6  7]\n",
      "  [ 8  9 10 11]]\n",
      "\n",
      " [[12 13 14 15]\n",
      "  [16 17 18 19]\n",
      "  [20 21 22 23]]]\n",
      "3\n",
      "(2, 3, 4)\n",
      "2\n"
     ]
    }
   ],
   "source": [
    "C1 = [[0, 1, 2, 3],\n",
    "      [4, 5, 6, 7],\n",
    "      [8, 9, 10, 11]]\n",
    "\n",
    "C2 = [[12, 13, 14, 15],\n",
    "      [16, 17, 18, 19],\n",
    "      [20, 21, 22, 23]]\n",
    "\n",
    "C = np.array([C1, C2])\n",
    "\n",
    "print(C)\n",
    "print(C.ndim)\n",
    "print(C.shape)\n",
    "print(len (C))"
   ]
  },
  {
   "cell_type": "markdown",
   "metadata": {
    "nbgrader": {
     "grade": false,
     "locked": true,
     "solution": false
    }
   },
   "source": [
    "There are routines for creating various kinds of structured matrices as well, which are similar to those found in [MATLAB](http://www.mathworks.com/products/matlab/) and [Octave](https://www.gnu.org/software/octave/)."
   ]
  },
  {
   "cell_type": "code",
   "execution_count": 10,
   "metadata": {
    "nbgrader": {
     "grade": false,
     "locked": true,
     "solution": false
    }
   },
   "outputs": [
    {
     "name": "stdout",
     "output_type": "stream",
     "text": [
      "[[0. 0. 0. 0.]\n",
      " [0. 0. 0. 0.]\n",
      " [0. 0. 0. 0.]]\n"
     ]
    }
   ],
   "source": [
    "print(np.zeros((3, 4)))"
   ]
  },
  {
   "cell_type": "code",
   "execution_count": 11,
   "metadata": {
    "nbgrader": {
     "grade": false,
     "locked": true,
     "solution": false
    }
   },
   "outputs": [
    {
     "name": "stdout",
     "output_type": "stream",
     "text": [
      "[[1. 1. 1. 1.]\n",
      " [1. 1. 1. 1.]\n",
      " [1. 1. 1. 1.]]\n"
     ]
    }
   ],
   "source": [
    "print(np.ones((3, 4)))"
   ]
  },
  {
   "cell_type": "code",
   "execution_count": 12,
   "metadata": {
    "nbgrader": {
     "grade": false,
     "locked": true,
     "solution": false
    }
   },
   "outputs": [
    {
     "name": "stdout",
     "output_type": "stream",
     "text": [
      "[[1. 0. 0.]\n",
      " [0. 1. 0.]\n",
      " [0. 0. 1.]]\n"
     ]
    }
   ],
   "source": [
    "print(np.eye(3))"
   ]
  },
  {
   "cell_type": "code",
   "execution_count": 13,
   "metadata": {
    "nbgrader": {
     "grade": false,
     "locked": true,
     "solution": false
    }
   },
   "outputs": [
    {
     "name": "stdout",
     "output_type": "stream",
     "text": [
      "[[1 0 0]\n",
      " [0 2 0]\n",
      " [0 0 3]]\n"
     ]
    }
   ],
   "source": [
    "print(np.diag([1, 2, 3]))"
   ]
  },
  {
   "cell_type": "markdown",
   "metadata": {
    "nbgrader": {
     "grade": false,
     "locked": true,
     "solution": false
    }
   },
   "source": [
    "You can also create empty (uninitialized) arrays. What does the following produce?"
   ]
  },
  {
   "cell_type": "code",
   "execution_count": 14,
   "metadata": {
    "nbgrader": {
     "grade": false,
     "locked": true,
     "solution": false
    }
   },
   "outputs": [
    {
     "name": "stdout",
     "output_type": "stream",
     "text": [
      "[[1. 1. 1. 1.]\n",
      " [1. 1. 1. 1.]\n",
      " [1. 1. 1. 1.]]\n"
     ]
    }
   ],
   "source": [
    "A = np.empty((3, 4)) # An \"empty\" 3 x 4 matrix\n",
    "print(A)"
   ]
  },
  {
   "cell_type": "markdown",
   "metadata": {
    "nbgrader": {
     "grade": false,
     "locked": true,
     "solution": false
    }
   },
   "source": [
    "The following code creates an identity matrix in two different ways, which are found to be equal according to the assertion. But in fact there is a subtle difference between the `I` and `I_u` matrices created below; can you spot it?"
   ]
  },
  {
   "cell_type": "code",
   "execution_count": 17,
   "metadata": {
    "nbgrader": {
     "grade": false,
     "locked": true,
     "solution": false
    }
   },
   "outputs": [
    {
     "name": "stdout",
     "output_type": "stream",
     "text": [
      "==> I = eye(n):\n",
      "[[1. 0. 0.]\n",
      " [0. 1. 0.]\n",
      " [0. 0. 1.]]\n",
      "\n",
      "==> u:\n",
      " [1, 1, 1]\n",
      "==> I_u = diag (u):\n",
      " [[1 0 0]\n",
      " [0 1 0]\n",
      " [0 0 1]]\n",
      "int64\n",
      "float64\n"
     ]
    }
   ],
   "source": [
    "n = 3\n",
    "I = np.eye(n)\n",
    "\n",
    "print(\"==> I = eye(n):\")\n",
    "print(I)\n",
    "\n",
    "u = [1] * n\n",
    "I_u = np.diag(u)\n",
    "\n",
    "print(\"\\n==> u:\\n\", u)\n",
    "print(\"==> I_u = diag (u):\\n\", I_u)\n",
    "\n",
    "assert np.all(I_u == I)\n",
    "\n",
    "print(I_u.dtype)\n",
    "print(I.dtype)"
   ]
  },
  {
   "cell_type": "markdown",
   "metadata": {
    "deletable": false,
    "nbgrader": {
     "grade": false,
     "locked": true,
     "solution": false
    }
   },
   "source": [
    "**Answer.** Give this some thought before you read the answer that follows!\n",
    "\n",
    "The difference is in the element types. The `eye()` function returns an identity matrix and uses a floating-point type as the element type. By contrast, `diag()`, which expects a list of initializer values upon input, derives the element type from that input. In this case, `u` contains values that will be stored as integers; therefore, `diag()` constructs its output assuming integer elements.\n",
    "\n",
    "Try running `print(I_u.dtype)` and `print(I.dtype)` to confirm that these element types differ."
   ]
  },
  {
   "cell_type": "markdown",
   "metadata": {
    "nbgrader": {
     "grade": false,
     "locked": true,
     "solution": false
    }
   },
   "source": [
    "## Indexing and slicing\n",
    "\n",
    "The usual 0-based slicing and indexing notation you know and love from lists is also supported for Numpy arrays. In the multidimensional case,  including their natural multidimensional analogues with index ranges separated by commas."
   ]
  },
  {
   "cell_type": "code",
   "execution_count": 18,
   "metadata": {
    "nbgrader": {
     "grade": false,
     "locked": true,
     "solution": false
    }
   },
   "outputs": [
    {
     "name": "stdout",
     "output_type": "stream",
     "text": [
      "[[[ 0  1  2  3]\n",
      "  [ 4  5  6  7]\n",
      "  [ 8  9 10 11]]\n",
      "\n",
      " [[12 13 14 15]\n",
      "  [16 17 18 19]\n",
      "  [20 21 22 23]]]\n"
     ]
    }
   ],
   "source": [
    "# Recall: C\n",
    "print (C)"
   ]
  },
  {
   "cell_type": "markdown",
   "metadata": {
    "nbgrader": {
     "grade": false,
     "locked": true,
     "solution": false
    }
   },
   "source": [
    "What part of C will the following slice extract? Run the code to find out."
   ]
  },
  {
   "cell_type": "code",
   "execution_count": 19,
   "metadata": {
    "nbgrader": {
     "grade": false,
     "locked": true,
     "solution": false
    }
   },
   "outputs": [
    {
     "name": "stdout",
     "output_type": "stream",
     "text": [
      "[ 8  9 10 11]\n"
     ]
    }
   ],
   "source": [
    "print (C[0, 2, :])"
   ]
  },
  {
   "cell_type": "markdown",
   "metadata": {
    "nbgrader": {
     "grade": false,
     "locked": true,
     "solution": false
    }
   },
   "source": [
    "What will the following slice return? Run the code to find out."
   ]
  },
  {
   "cell_type": "code",
   "execution_count": 20,
   "metadata": {
    "nbgrader": {
     "grade": false,
     "locked": true,
     "solution": false
    }
   },
   "outputs": [
    {
     "name": "stdout",
     "output_type": "stream",
     "text": [
      "[15 14 13 12]\n"
     ]
    }
   ],
   "source": [
    "print (C[1, 0, ::-1])"
   ]
  },
  {
   "cell_type": "markdown",
   "metadata": {
    "nbgrader": {
     "grade": false,
     "locked": true,
     "solution": false
    }
   },
   "source": [
    "Consider the following $6 \\times 6$ matrix, which has 4 different subsets highlighted.\n",
    "\n",
    "<img src=\"https://github.com/cse6040/labs-fa17/raw/master/lab10-numpy/slicing-exercise.png\" alt=\"Exercise: Extract these slices\" width=\"240\">\n",
    "\n",
    "For each subset illustrated above, write an indexing or slicing expression that extracts the subset. Store the result of each slice into `Z_green`, `Z_red`, `Z_orange`, and `Z_cyan`."
   ]
  },
  {
   "cell_type": "code",
   "execution_count": 40,
   "metadata": {
    "deletable": false,
    "nbgrader": {
     "checksum": "11e5e133ff5caee1a7562795f3d26d2e",
     "grade": false,
     "grade_id": "create_Z",
     "locked": false,
     "schema_version": 1,
     "solution": true
    }
   },
   "outputs": [],
   "source": [
    "Z= np.array([[0,1,2,3,4,5],[10,11,12,13,14,15],[20,21,22,23,24,25],[30,31,32,33,34,35],[40,41,42,43,44,45],[50,51,52,53,54,55]])\n",
    "\n",
    "Z_green = Z[2::2,::2]\n",
    "Z_red = Z[:, 2]\n",
    "Z_orange = Z[0,3:5]\n",
    "Z_cyan = Z[4:,4:]"
   ]
  },
  {
   "cell_type": "code",
   "execution_count": 41,
   "metadata": {
    "deletable": false,
    "nbgrader": {
     "checksum": "5ba2d769c7f7534e17eab32ec1e3d2c8",
     "grade": true,
     "grade_id": "check_Z",
     "locked": true,
     "points": 5,
     "schema_version": 1,
     "solution": false
    }
   },
   "outputs": [
    {
     "name": "stdout",
     "output_type": "stream",
     "text": [
      "==> Z:\n",
      " [[ 0  1  2  3  4  5]\n",
      " [10 11 12 13 14 15]\n",
      " [20 21 22 23 24 25]\n",
      " [30 31 32 33 34 35]\n",
      " [40 41 42 43 44 45]\n",
      " [50 51 52 53 54 55]]\n",
      "\n",
      "==> Orange slice:\n",
      " [3 4]\n",
      "\n",
      "==> Red slice:\n",
      " [ 2 12 22 32 42 52]\n",
      "\n",
      "==> Cyan slice:\n",
      " [[44 45]\n",
      " [54 55]]\n",
      "\n",
      "==> Green slice:\n",
      " [[20 22 24]\n",
      " [40 42 44]]\n",
      "\n",
      "(Passed!)\n"
     ]
    }
   ],
   "source": [
    "# Test cell: `check_Z`\n",
    "\n",
    "print(\"==> Z:\\n\", Z)\n",
    "assert (Z == np.array([np.arange(0, 6),\n",
    "                       np.arange(10, 16),\n",
    "                       np.arange(20, 26),\n",
    "                       np.arange(30, 36),\n",
    "                       np.arange(40, 46),\n",
    "                       np.arange(50, 56)])).all()\n",
    "\n",
    "print(\"\\n==> Orange slice:\\n\", Z_orange)\n",
    "assert (Z_orange == np.array ([3, 4])).all()\n",
    "\n",
    "print(\"\\n==> Red slice:\\n\", Z_red)\n",
    "assert (Z_red == np.array ([2, 12, 22, 32, 42, 52])).all()\n",
    "\n",
    "print(\"\\n==> Cyan slice:\\n\", Z_cyan)\n",
    "assert (Z_cyan == np.array ([[44, 45], [54, 55]])).all()\n",
    "\n",
    "print(\"\\n==> Green slice:\\n\", Z_green)\n",
    "assert (Z_green == np.array ([[20, 22, 24], [40, 42, 44]])).all()\n",
    "\n",
    "print(\"\\n(Passed!)\")"
   ]
  },
  {
   "cell_type": "markdown",
   "metadata": {
    "nbgrader": {
     "grade": false,
     "locked": true,
     "solution": false
    }
   },
   "source": [
    "## Slices are views\n",
    "\n",
    "To help save memory, when you slice a Numpy array, you are actually creating a _view_ into that array. That means modifications through the view will modify the original array."
   ]
  },
  {
   "cell_type": "code",
   "execution_count": 42,
   "metadata": {
    "nbgrader": {
     "grade": false,
     "locked": true,
     "solution": false
    }
   },
   "outputs": [
    {
     "name": "stdout",
     "output_type": "stream",
     "text": [
      "==> Recall C: (2, 3, 4)\n",
      "[[[ 0  1  2  3]\n",
      "  [ 4  5  6  7]\n",
      "  [ 8  9 10 11]]\n",
      "\n",
      " [[12 13 14 15]\n",
      "  [16 17 18 19]\n",
      "  [20 21 22 23]]]\n"
     ]
    }
   ],
   "source": [
    "print(\"==> Recall C: %s\" % str(C.shape))\n",
    "print(C)"
   ]
  },
  {
   "cell_type": "code",
   "execution_count": 44,
   "metadata": {
    "nbgrader": {
     "grade": false,
     "locked": true,
     "solution": false
    }
   },
   "outputs": [
    {
     "name": "stdout",
     "output_type": "stream",
     "text": [
      "==> C_view: (2, 2)\n",
      "[[13 15]\n",
      " [21 23]]\n"
     ]
    }
   ],
   "source": [
    "C_view = C[1, 0::2, 1::2]\n",
    "print (\"==> C_view: %s\" % str (C_view.shape))\n",
    "print (C_view)"
   ]
  },
  {
   "cell_type": "code",
   "execution_count": 45,
   "metadata": {
    "nbgrader": {
     "grade": false,
     "locked": true,
     "solution": false
    }
   },
   "outputs": [
    {
     "name": "stdout",
     "output_type": "stream",
     "text": [
      "[[-23 -21]\n",
      " [-15 -13]]\n"
     ]
    }
   ],
   "source": [
    "C_view[:, :] = -C_view[::-1, ::-1] # Question: What does this do?\n",
    "print (C_view)"
   ]
  },
  {
   "cell_type": "code",
   "execution_count": 46,
   "metadata": {
    "nbgrader": {
     "grade": false,
     "locked": true,
     "solution": false
    }
   },
   "outputs": [
    {
     "name": "stdout",
     "output_type": "stream",
     "text": [
      "[[[  0   1   2   3]\n",
      "  [  4   5   6   7]\n",
      "  [  8   9  10  11]]\n",
      "\n",
      " [[ 12 -23  14 -21]\n",
      "  [ 16  17  18  19]\n",
      "  [ 20 -15  22 -13]]]\n"
     ]
    }
   ],
   "source": [
    "print (C)"
   ]
  },
  {
   "cell_type": "markdown",
   "metadata": {
    "nbgrader": {
     "grade": false,
     "locked": true,
     "solution": false
    }
   },
   "source": [
    "You can force a copy using the `.copy()` method:"
   ]
  },
  {
   "cell_type": "code",
   "execution_count": 47,
   "metadata": {
    "nbgrader": {
     "grade": false,
     "locked": true,
     "solution": false
    }
   },
   "outputs": [
    {
     "name": "stdout",
     "output_type": "stream",
     "text": [
      "==> C_view:\n",
      "[[-23 -21]\n",
      " [-15 -13]]\n",
      "\n",
      "==> C_copy:\n",
      "[[13 15]\n",
      " [21 23]]\n"
     ]
    }
   ],
   "source": [
    "C_copy = C[1, 0::2, 1::2].copy ()\n",
    "C_copy[:, :] = -C_copy[::-1, ::-1]\n",
    "\n",
    "print (\"==> C_view:\")\n",
    "print (C_view)\n",
    "\n",
    "print (\"\\n==> C_copy:\")\n",
    "print (C_copy)"
   ]
  },
  {
   "cell_type": "markdown",
   "metadata": {
    "nbgrader": {
     "grade": false,
     "locked": true,
     "solution": false
    }
   },
   "source": [
    "And to check whether two Numpy array variables point to the same object, you can use the `numpy.may_share_memory()` function:"
   ]
  },
  {
   "cell_type": "code",
   "execution_count": 48,
   "metadata": {
    "nbgrader": {
     "grade": false,
     "locked": true,
     "solution": false
    }
   },
   "outputs": [
    {
     "name": "stdout",
     "output_type": "stream",
     "text": [
      "C and C_view share memory: True\n",
      "C and C_copy share memory: False\n"
     ]
    }
   ],
   "source": [
    "print (\"C and C_view share memory: %s\" % np.may_share_memory (C, C_view))\n",
    "print (\"C and C_copy share memory: %s\" % np.may_share_memory (C, C_copy))"
   ]
  },
  {
   "cell_type": "markdown",
   "metadata": {
    "nbgrader": {
     "grade": false,
     "locked": true,
     "solution": false
    }
   },
   "source": [
    "## Indirect addressing\n",
    "\n",
    "Two other common ways to index a Numpy array are to use a boolean mask or to use a set of integer indices."
   ]
  },
  {
   "cell_type": "code",
   "execution_count": 49,
   "metadata": {
    "nbgrader": {
     "grade": false,
     "locked": true,
     "solution": false
    }
   },
   "outputs": [
    {
     "name": "stdout",
     "output_type": "stream",
     "text": [
      "[10  3  8  0 19 10 11  9 10  6  0 12  7 14 17]\n"
     ]
    }
   ],
   "source": [
    "np.random.seed(3)\n",
    "x = np.random.randint(0, 20, 15) # 15 random ints in [0, 20)\n",
    "print(x)"
   ]
  },
  {
   "cell_type": "code",
   "execution_count": 50,
   "metadata": {
    "nbgrader": {
     "grade": false,
     "locked": true,
     "solution": false
    }
   },
   "outputs": [
    {
     "name": "stdout",
     "output_type": "stream",
     "text": [
      "[ 0  9 10  7]\n"
     ]
    }
   ],
   "source": [
    "# Pull out an arbitrary subset of elements\n",
    "inds = np.array([3, 7, 8, 12])\n",
    "print(x[inds])"
   ]
  },
  {
   "cell_type": "markdown",
   "metadata": {
    "nbgrader": {
     "grade": false,
     "locked": true,
     "solution": false
    }
   },
   "source": [
    "Before looking at how to use a boolean mask for indexing, let's create one.\n",
    "\n",
    "Given the input array, `x[:]`, above, create an array, `mask_mult_3[:]` such that `mask_mult_3[i]` is true only if `x[i]` is a positive multiple of 3."
   ]
  },
  {
   "cell_type": "code",
   "execution_count": 52,
   "metadata": {
    "deletable": false,
    "nbgrader": {
     "checksum": "8e07e2c94176962381e0f8b39cf70602",
     "grade": false,
     "grade_id": "mask_mult_3",
     "locked": false,
     "schema_version": 1,
     "solution": true
    }
   },
   "outputs": [],
   "source": [
    "mask_mult_3 = (x > 0) & (x%3==0)"
   ]
  },
  {
   "cell_type": "code",
   "execution_count": 53,
   "metadata": {
    "deletable": false,
    "nbgrader": {
     "checksum": "9a226b25ac1f6e3e9dedc154362f2342",
     "grade": true,
     "grade_id": "mask_mult_3_test",
     "locked": true,
     "points": 1,
     "schema_version": 1,
     "solution": false
    }
   },
   "outputs": [
    {
     "name": "stdout",
     "output_type": "stream",
     "text": [
      "x: [10  3  8  0 19 10 11  9 10  6  0 12  7 14 17]\n",
      "mask_mult_3: [False  True False False False False False  True False  True False  True\n",
      " False False False]\n",
      "==> x[mask_mult_3]: [ 3  9  6 12]\n"
     ]
    }
   ],
   "source": [
    "# Test cell: `mask_mult_3_test`\n",
    "\n",
    "print (\"x:\", x)\n",
    "print (\"mask_mult_3:\", mask_mult_3)\n",
    "print (\"==> x[mask_mult_3]:\", x[mask_mult_3])\n",
    "\n",
    "inv_mask_mult_3 = np.invert (mask_mult_3)\n",
    "\n",
    "assert ((x[mask_mult_3] % 3) == np.zeros (sum (mask_mult_3))).all ()\n",
    "assert (((x[inv_mask_mult_3] % 3) != np.zeros (sum (inv_mask_mult_3))) | (x[inv_mask_mult_3] == 0)).all ()"
   ]
  },
  {
   "cell_type": "markdown",
   "metadata": {
    "nbgrader": {
     "grade": false,
     "locked": true,
     "solution": false
    }
   },
   "source": [
    "Complete the prime number sieve algorithm, which is illustrated below.\n",
    "\n",
    "<img src=\"https://github.com/cse6040/labs-fa17/raw/master/lab10-numpy/prime-sieve.png\" alt=\"Exercise: Extract these slices\" width=\"480\">\n",
    "\n",
    "That is, given a positive integer $n$, the algorithm iterates from $i \\in \\{2, 3, 4, \\ldots, \\left\\lfloor\\sqrt{n}\\right\\rfloor\\}$, repeatedly \"crossing out\" values that are strict multiples of $i$. \"Crossing out\" means maintaining an array of, say, booleans, and setting values that are multiples of $i$ to `False`."
   ]
  },
  {
   "cell_type": "code",
   "execution_count": 54,
   "metadata": {
    "deletable": false,
    "nbgrader": {
     "checksum": "2eeb476bfd7cfcf266c8af9efe5cc8de",
     "grade": false,
     "grade_id": "prime_sieve",
     "locked": false,
     "schema_version": 1,
     "solution": true
    }
   },
   "outputs": [
    {
     "name": "stdout",
     "output_type": "stream",
     "text": [
      "==> Primes through 20:\n",
      " [ 2  3  5  7 11 13 17 19]\n"
     ]
    }
   ],
   "source": [
    "from math import sqrt\n",
    "\n",
    "def sieve(n):\n",
    "    \"\"\"\n",
    "    Returns the prime number 'sieve' shown above.\n",
    "    \n",
    "    That is, this function returns an array `X[0:n+1]`\n",
    "    such that `X[i]` is true if and only if `i` is prime.\n",
    "    \"\"\"\n",
    "    is_prime = np.empty(n+1, dtype=bool) # the \"sieve\"\n",
    "\n",
    "    # Initial values\n",
    "    is_prime[0:2] = False # {0, 1} are _not_ considered prime\n",
    "    is_prime[2:] = True # All other values might be prime\n",
    "\n",
    "    # Implement the sieving loop\n",
    "    for i in range(2, int(sqrt(n))):\n",
    "        is_prime[2*i::i] = False\n",
    "    \n",
    "    return is_prime\n",
    "\n",
    "# Prints your primes\n",
    "print(\"==> Primes through 20:\\n\", np.nonzero(sieve(20))[0])"
   ]
  },
  {
   "cell_type": "code",
   "execution_count": 55,
   "metadata": {
    "deletable": false,
    "nbgrader": {
     "checksum": "99a64fc0190abc8cdba6386398befdb5",
     "grade": true,
     "grade_id": "prime_sieve_test",
     "locked": true,
     "points": 3,
     "schema_version": 1,
     "solution": false
    }
   },
   "outputs": [],
   "source": [
    "# Test cell: `prime_sieve_test`\n",
    "\n",
    "is_prime = sieve(20)\n",
    "assert len (is_prime) == 21\n",
    "assert (is_prime == np.array([False, False, True, True, False, True, False, True, False, False, False, True, False, True, False, False, False, True, False, True, False])).all()"
   ]
  },
  {
   "cell_type": "markdown",
   "metadata": {
    "nbgrader": {
     "grade": false,
     "locked": true,
     "solution": false
    }
   },
   "source": [
    "# Part 2: Dense matrix storage \n",
    "This part of the lab is a brief introduction to efficient storage of matrices."
   ]
  },
  {
   "cell_type": "markdown",
   "metadata": {},
   "source": [
    "## Dense matrix storage: Column-major versus row-major layouts\n",
    "\n",
    "For linear algebra, we will be especially interested in 2-D arrays, which we will use to store matrices. For this common case, there is a subtle performance issue related to how matrices are stored in memory.\n",
    "\n",
    "By way of background, physical storage---whether it be memory or disk---is basically one big array. And because of how physical storage is implemented, it turns out that it is much faster to access consecutive elements in memory than, say, to jump around randomly."
   ]
  },
  {
   "cell_type": "markdown",
   "metadata": {},
   "source": [
    "A matrix is a two-dimensional object. Thus, when it is stored in memory, it must be mapped in some way to the one-dimensional physical array. There are many possible mappings, but the two most common conventions are known as the _column-major_ and _row-major_ layouts:\n",
    "\n",
    "<img src=\"matrix-layout.png\" alt=\"Exercise: Extract these slices\" width=\"640\">"
   ]
  },
  {
   "cell_type": "markdown",
   "metadata": {},
   "source": [
    "Let $A$ be an $m \\times n$ matrix stored in column-major format. Let $B$ be an $m \\times n$ matrix stored in row-major format.\n",
    "\n",
    "Based on the preceding discussion, recall that these objects will be mapped to 1-D arrays of length $mn$, behind the scenes. Let's call the 1-D array representations $\\hat{A}$ and $\\hat{B}$. Thus, the $(i, j)$ element of $a$, $a_{ij}$, will map to some element $\\hat{a}_u$ of $\\hat{A}$; similarly, $b_{ij}$ will map to some element $\\hat{b}_v$ of $\\hat{B}$.\n",
    "\n",
    "Determine formulae to compute the 1-D index values, $u$ and $v$, in terms of $\\{i, j, m, n\\}$. Assume that all indices are 0-based, i.e., $0 \\leq i \\leq m-1$, $0 \\leq j \\leq n-1$, and $0 \\leq u, v \\leq mn-1$."
   ]
  },
  {
   "cell_type": "code",
   "execution_count": 63,
   "metadata": {},
   "outputs": [],
   "source": [
    "def linearize_colmajor(i, j, m, n): # calculate `u`\n",
    "    \"\"\"\n",
    "    Returns the linear index for the `(i, j)` entry of\n",
    "    an `m`-by-`n` matrix stored in column-major order.\n",
    "    \"\"\"\n",
    "    return i+j*m"
   ]
  },
  {
   "cell_type": "code",
   "execution_count": 66,
   "metadata": {},
   "outputs": [],
   "source": [
    "def linearize_rowmajor(i, j, m, n): # calculate `v`\n",
    "    \"\"\"\n",
    "    Returns the linear index for the `(i, j)` entry of\n",
    "    an `m`-by-`n` matrix stored in row-major order.\n",
    "    \"\"\"\n",
    "    return i*n+j"
   ]
  },
  {
   "cell_type": "code",
   "execution_count": 67,
   "metadata": {},
   "outputs": [
    {
     "name": "stdout",
     "output_type": "stream",
     "text": [
      "(Passed.)\n"
     ]
    }
   ],
   "source": [
    "# Test cell: `calc_uv_test`\n",
    "\n",
    "# Quick check (not exhaustive):\n",
    "assert linearize_colmajor(7, 4, 10, 20) == 47\n",
    "assert linearize_rowmajor(7, 4, 10, 20) == 144\n",
    "\n",
    "assert linearize_colmajor(10, 8, 86, 26) == 698\n",
    "assert linearize_rowmajor(10, 8, 86, 26) == 268\n",
    "\n",
    "assert linearize_colmajor(8, 34, 17, 40) == 586\n",
    "assert linearize_rowmajor(8, 34, 17, 40) == 354\n",
    "\n",
    "assert linearize_colmajor(32, 48, 37, 55) == 1808\n",
    "assert linearize_rowmajor(32, 48, 37, 55) == 1808\n",
    "\n",
    "assert linearize_colmajor(24, 33, 57, 87) == 1905\n",
    "assert linearize_rowmajor(24, 33, 57, 87) == 2121\n",
    "\n",
    "assert linearize_colmajor(10, 3, 19, 74) == 67\n",
    "assert linearize_rowmajor(10, 3, 19, 74) == 743\n",
    "\n",
    "print (\"(Passed.)\")"
   ]
  },
  {
   "cell_type": "markdown",
   "metadata": {},
   "source": [
    "## Requesting a layout in Numpy\n",
    "\n",
    "In Numpy, you can ask for either layout. The default in Numpy is row-major.\n",
    "\n",
    "Historically numerical linear algebra libraries were developed assuming column-major layout. This layout happens to be the default when you declare a 2-D array in the Fortran programming language. By contrast, in the C and C++ programming languages, the default convention for a 2-D array is row-major layout. So the Numpy default is the C/C++ convention.\n",
    "\n",
    "In your programs, you can request either order of Numpy using the `order` parameter. For linear algebra operations (common), we recommend using the column-major convention.\n",
    "\n",
    "In either case, here is how you would create column- and row-major matrices."
   ]
  },
  {
   "cell_type": "code",
   "execution_count": 68,
   "metadata": {},
   "outputs": [],
   "source": [
    "n = 5000\n",
    "A_colmaj = np.ones((n, n), order='F') # column-major (Fortran convention)\n",
    "A_rowmaj = np.ones((n, n), order='C') # row-major (C/C++ convention)"
   ]
  },
  {
   "cell_type": "markdown",
   "metadata": {},
   "source": [
    "Given a matrix $A$, write a function that scales each column, $A(:, j)$ by $j$. Then compare the speed of applying that function to matrices in row and column major order."
   ]
  },
  {
   "cell_type": "code",
   "execution_count": 69,
   "metadata": {},
   "outputs": [],
   "source": [
    "def scale_colwise(A):\n",
    "    \"\"\"Given a Numpy matrix `A`, visits each column `A[:, j]`\n",
    "    and scales it by `j`.\"\"\"\n",
    "    assert type(A) is np.ndarray\n",
    "    \n",
    "    n_cols = A.shape[1] # number of columns\n",
    "    for j in range(n_cols):\n",
    "        A[:,j] += j\n",
    "    return A"
   ]
  },
  {
   "cell_type": "code",
   "execution_count": 70,
   "metadata": {},
   "outputs": [
    {
     "name": "stdout",
     "output_type": "stream",
     "text": [
      "398 ms ± 8.95 ms per loop (mean ± std. dev. of 7 runs, 1 loop each)\n",
      "49.9 ms ± 4.79 ms per loop (mean ± std. dev. of 7 runs, 10 loops each)\n"
     ]
    }
   ],
   "source": [
    "# Test (timing) cell: `scale_colwise_test`\n",
    "\n",
    "# Measure time to scale a row-major input column-wise\n",
    "%timeit scale_colwise(A_rowmaj)\n",
    "\n",
    "# Measure time to scale a column-major input column-wise\n",
    "%timeit scale_colwise(A_colmaj)"
   ]
  },
  {
   "cell_type": "markdown",
   "metadata": {},
   "source": [
    "## Python vs. Numpy example: Matrix-vector multiply\n",
    "\n",
    "Look at the definition of matrix-vector multiplication from [Da Kuang's linear algebra notes](https://www.dropbox.com/s/f410k9fgd7iesdv/kuang-linalg-notes.pdf?dl=0). Let's benchmark a matrix-vector multiply in native Python, and compare that to doing the same operation in Numpy.\n",
    "\n",
    "First, some setup. (What does this code do?)"
   ]
  },
  {
   "cell_type": "code",
   "execution_count": 75,
   "metadata": {},
   "outputs": [],
   "source": [
    "# Dimensions; you might shrink this value for debugging\n",
    "n = 2500\n",
    "# Generate random values, for use in populating the matrix and vector\n",
    "from random import gauss\n",
    "\n",
    "# Native Python, using lists\n",
    "A_py = [gauss(0, 1) for i in range(n*n)] # Assume: Column-major\n",
    "x_py = [gauss(0, 1) for i in range(n)]"
   ]
  },
  {
   "cell_type": "code",
   "execution_count": 80,
   "metadata": {},
   "outputs": [],
   "source": [
    "# Convert values into Numpy arrays in column-major order\n",
    "A_np = np.reshape(A_py, (n, n), order='F')\n",
    "x_np = np.reshape(x_py, (n, 1), order='F')"
   ]
  },
  {
   "cell_type": "code",
   "execution_count": 81,
   "metadata": {},
   "outputs": [
    {
     "name": "stdout",
     "output_type": "stream",
     "text": [
      "2.41 ms ± 140 µs per loop (mean ± std. dev. of 7 runs, 100 loops each)\n"
     ]
    }
   ],
   "source": [
    "# Here is how you do a \"matvec\" in Numpy:\n",
    "%timeit A_np.dot(x_np)"
   ]
  },
  {
   "cell_type": "markdown",
   "metadata": {},
   "source": [
    "Implement a matrix-vector product that operates on native Python lists. Assume the 1-D **column-major** storage of the matrix."
   ]
  },
  {
   "cell_type": "code",
   "execution_count": 82,
   "metadata": {},
   "outputs": [],
   "source": [
    "def matvec_py(m, n, A, x):\n",
    "    \"\"\"\n",
    "    Native Python-based matrix-vector multiply, using lists.\n",
    "    The dimensions of the matrix A are m-by-n, and x is a\n",
    "    vector of length n.\n",
    "    \"\"\"\n",
    "    assert type(A) is list and all([type(aij) is float for aij in A])\n",
    "    assert type(x) is list\n",
    "    assert len(x) >= n\n",
    "    assert len(A) >= (m*n)\n",
    "\n",
    "    y = [0.] * m\n",
    "    for i in range(m):\n",
    "        for j in range(n):\n",
    "            y[i] += A[i+j*m] * x[j]\n",
    "    return y"
   ]
  },
  {
   "cell_type": "code",
   "execution_count": 83,
   "metadata": {},
   "outputs": [
    {
     "name": "stdout",
     "output_type": "stream",
     "text": [
      "==> Error bound estimate:\n",
      "         C*n*eps\n",
      "         == 10*2500*2.22045e-16\n",
      "         == 5.55112e-12\n",
      "\n"
     ]
    },
    {
     "data": {
      "text/latex": [
       "$\\displaystyle ||y_{\\textrm{np}} - y_{\\textrm{py}}||_{\\infty} = \\textrm{0} \\leq \\textrm{5.55112e-12}\\ (\\textrm{estimated bound})$"
      ],
      "text/plain": [
       "<IPython.core.display.Math object>"
      ]
     },
     "metadata": {},
     "output_type": "display_data"
    },
    {
     "name": "stdout",
     "output_type": "stream",
     "text": [
      "\n",
      "(Passed!)\n"
     ]
    }
   ],
   "source": [
    "# Test cell: `matvec_py_test`\n",
    "\n",
    "# Estimate a bound on the difference between these two\n",
    "EPS = np.finfo (float).eps # \"machine epsilon\"\n",
    "CONST = 10.0 # Some constant for the error bound\n",
    "dy_max = CONST * n * EPS\n",
    "\n",
    "print (\"\"\"==> Error bound estimate:\n",
    "         C*n*eps\n",
    "         == %g*%g*%g\n",
    "         == %g\n",
    "\"\"\" % (CONST, n, EPS, dy_max))\n",
    "\n",
    "# Run the Numpy version and your code\n",
    "y_np = A_np.dot (x_np)\n",
    "y_py = matvec_py (n, n, A_py, x_py)\n",
    "\n",
    "# Compute the difference between these\n",
    "dy = y_np - np.reshape (y_py, (n, 1), order='F')\n",
    "dy_norm = np.linalg.norm (dy, ord=np.inf)\n",
    "\n",
    "# Summarize the results\n",
    "from IPython.display import display, Math\n",
    "\n",
    "comparison = \"\\leq\" if dy_norm <= dy_max else \"\\gt\"\n",
    "display (Math (\n",
    "        r'||y_{\\textrm{np}} - y_{\\textrm{py}}||_{\\infty}'\n",
    "        r' = \\textrm{%g} %s \\textrm{%g}\\ (\\textrm{estimated bound})'\n",
    "        % (dy_norm, comparison, dy_max)\n",
    "    ))\n",
    "\n",
    "if n <= 4: # Debug: Print all data for small inputs\n",
    "    print (\"@A_np:\\n\", A_np)\n",
    "    print (\"@x_np:\\n\", x_np)\n",
    "    print (\"@y_np:\\n\", y_np)\n",
    "    print (\"@A_py:\\n\", A_py)\n",
    "    print (\"@x_py:\\n\", x_np)\n",
    "    print (\"@y_py:\\n\", y_py)\n",
    "    print (\"@dy:\\n\", dy)\n",
    "\n",
    "# Trigger an error on likely failure\n",
    "assert dy_norm <= dy_max\n",
    "print(\"\\n(Passed!)\")"
   ]
  },
  {
   "cell_type": "code",
   "execution_count": 84,
   "metadata": {},
   "outputs": [
    {
     "name": "stdout",
     "output_type": "stream",
     "text": [
      "3.51 s ± 336 ms per loop (mean ± std. dev. of 7 runs, 1 loop each)\n"
     ]
    }
   ],
   "source": [
    "%timeit matvec_py (n, n, A_py, x_py)"
   ]
  },
  {
   "cell_type": "markdown",
   "metadata": {},
   "source": [
    "# Part 3: Sparse matrix storage\n",
    "\n",
    "This part is about sparse matrix storage in Numpy/Scipy. Start by running the following code cell to get some of the key modules you'll need."
   ]
  },
  {
   "cell_type": "code",
   "execution_count": 86,
   "metadata": {},
   "outputs": [],
   "source": [
    "import numpy as np\n",
    "import pandas as pd\n",
    "from random import sample # Used to generate a random sample\n",
    "from IPython.display import display"
   ]
  },
  {
   "cell_type": "markdown",
   "metadata": {},
   "source": [
    "## Sample data\n",
    "\n",
    "For this part, you'll need to download the dataset below. It's a list of pairs of strings. The strings, it turns out, correspond to anonymized Yelp! user IDs; a pair $(a, b)$ exists if user $a$ is friends on Yelp! with user $b$."
   ]
  },
  {
   "cell_type": "code",
   "execution_count": 91,
   "metadata": {},
   "outputs": [
    {
     "name": "stdout",
     "output_type": "stream",
     "text": [
      "[https://cse6040.gatech.edu/datasets/UserEdges-1M.csv] Downloading...\n",
      "==> Checksum test passes: 4668034bbcd2fa120915ea2d15eafa8d\n",
      "==> 'UserEdges-1M.csv' is ready!\n",
      "\n",
      "(Auxiliary files appear to be ready.)\n"
     ]
    }
   ],
   "source": [
    "import requests\n",
    "import os\n",
    "import hashlib\n",
    "import io\n",
    "\n",
    "local_filename = 'UserEdges-1M.csv'\n",
    "url = 'https://cse6040.gatech.edu/datasets/{}'.format(local_filename)\n",
    "if os.path.exists(local_filename):\n",
    "    print(\"[{}]\\n==> '{}' is already available.\".format(url, file))\n",
    "else:\n",
    "    print(\"[{}] Downloading...\".format(url))\n",
    "    r = requests.get(url)\n",
    "    with open(local_filename, 'w', encoding=r.encoding) as f:\n",
    "        f.write(r.text)\n",
    "            \n",
    "checksum = '4668034bbcd2fa120915ea2d15eafa8d'\n",
    "with io.open(local_filename, 'r', encoding='utf-8', errors='replace') as f:\n",
    "    body = f.read()\n",
    "    body_checksum = hashlib.md5(body.encode('utf-8')).hexdigest()\n",
    "    assert body_checksum == checksum, \\\n",
    "        \"Downloaded file '{}' has incorrect checksum: '{}' instead of '{}'\".format(local_filename,\n",
    "                                                                                   body_checksum,\n",
    "                                                                                   checksum)\n",
    "    print(\"==> Checksum test passes: {}\".format(checksum))\n",
    "    \n",
    "print(\"==> '{}' is ready!\\n\".format(local_filename))\n",
    "print(\"(Auxiliary files appear to be ready.)\")"
   ]
  },
  {
   "cell_type": "code",
   "execution_count": 92,
   "metadata": {},
   "outputs": [
    {
     "data": {
      "text/html": [
       "<div>\n",
       "<style scoped>\n",
       "    .dataframe tbody tr th:only-of-type {\n",
       "        vertical-align: middle;\n",
       "    }\n",
       "\n",
       "    .dataframe tbody tr th {\n",
       "        vertical-align: top;\n",
       "    }\n",
       "\n",
       "    .dataframe thead th {\n",
       "        text-align: right;\n",
       "    }\n",
       "</style>\n",
       "<table border=\"1\" class=\"dataframe\">\n",
       "  <thead>\n",
       "    <tr style=\"text-align: right;\">\n",
       "      <th></th>\n",
       "      <th>Source</th>\n",
       "      <th>Target</th>\n",
       "    </tr>\n",
       "  </thead>\n",
       "  <tbody>\n",
       "    <tr>\n",
       "      <th>0</th>\n",
       "      <td>18kPq7GPye-YQ3LyKyAZPw</td>\n",
       "      <td>rpOyqD_893cqmDAtJLbdog</td>\n",
       "    </tr>\n",
       "    <tr>\n",
       "      <th>1</th>\n",
       "      <td>18kPq7GPye-YQ3LyKyAZPw</td>\n",
       "      <td>4U9kSBLuBDU391x6bxU-YA</td>\n",
       "    </tr>\n",
       "    <tr>\n",
       "      <th>2</th>\n",
       "      <td>18kPq7GPye-YQ3LyKyAZPw</td>\n",
       "      <td>fHtTaujcyKvXglE33Z5yIw</td>\n",
       "    </tr>\n",
       "    <tr>\n",
       "      <th>3</th>\n",
       "      <td>18kPq7GPye-YQ3LyKyAZPw</td>\n",
       "      <td>8J4IIYcqBlFch8T90N923A</td>\n",
       "    </tr>\n",
       "    <tr>\n",
       "      <th>4</th>\n",
       "      <td>18kPq7GPye-YQ3LyKyAZPw</td>\n",
       "      <td>wy6l_zUo7SN0qrvNRWgySw</td>\n",
       "    </tr>\n",
       "  </tbody>\n",
       "</table>\n",
       "</div>"
      ],
      "text/plain": [
       "                   Source                  Target\n",
       "0  18kPq7GPye-YQ3LyKyAZPw  rpOyqD_893cqmDAtJLbdog\n",
       "1  18kPq7GPye-YQ3LyKyAZPw  4U9kSBLuBDU391x6bxU-YA\n",
       "2  18kPq7GPye-YQ3LyKyAZPw  fHtTaujcyKvXglE33Z5yIw\n",
       "3  18kPq7GPye-YQ3LyKyAZPw  8J4IIYcqBlFch8T90N923A\n",
       "4  18kPq7GPye-YQ3LyKyAZPw  wy6l_zUo7SN0qrvNRWgySw"
      ]
     },
     "metadata": {},
     "output_type": "display_data"
    },
    {
     "name": "stdout",
     "output_type": "stream",
     "text": [
      "...\n",
      "`edges_raw` has 1000000 entries.\n"
     ]
    }
   ],
   "source": [
    "# Peek at the data:\n",
    "edges_raw = pd.read_csv(local_filename)\n",
    "display(edges_raw.head ())\n",
    "print(\"...\\n`edges_raw` has {} entries.\".format(len(edges_raw)))"
   ]
  },
  {
   "cell_type": "code",
   "execution_count": 93,
   "metadata": {},
   "outputs": [
    {
     "name": "stdout",
     "output_type": "stream",
     "text": [
      "==> |V| == 107456, |E| == 882640\n"
     ]
    }
   ],
   "source": [
    "edges_raw_trans = pd.DataFrame({'Source': edges_raw['Target'],\n",
    "                                'Target': edges_raw['Source']})\n",
    "edges_raw_symm = pd.concat([edges_raw, edges_raw_trans])\n",
    "edges = edges_raw_symm.drop_duplicates()\n",
    "\n",
    "V_names = set(edges['Source'])\n",
    "V_names.update(set(edges['Target']))\n",
    "\n",
    "num_edges = len(edges)\n",
    "num_verts = len(V_names)\n",
    "print(\"==> |V| == {}, |E| == {}\".format(num_verts, num_edges))"
   ]
  },
  {
   "cell_type": "markdown",
   "metadata": {},
   "source": [
    "Recall that the input dataframe, `edges_raw`, has a row $(a, b)$ if $a$ and $b$ are friends. But here is what is unclear at the outset: if $(a, b)$ is an entry in this table, is $(b, a)$ also an entry? The code in the above cell effectively figures that out, by computing a dataframe, `edges`, that contains both $(a, b)$ and $(b, a)$, with no additional duplicates, i.e., no copies of $(a, b)$.\n",
    "\n",
    "It also uses sets to construct a set, `V_names`, that consists of all the names. Evidently, the dataset consists of 107,456 unique names and 441,320 unique pairs, or 882,640 pairs when you \"symmetrize\" to ensure that both $(a, b)$ and $(b, a)$ appear."
   ]
  },
  {
   "cell_type": "markdown",
   "metadata": {},
   "source": [
    "## Graphs\n",
    "\n",
    "One way a computer scientist thinks of this collection of pairs is as a _graph_: \n",
    "https://en.wikipedia.org/wiki/Graph_(discrete_mathematics%29)\n",
    "\n",
    "The names or user IDs are _nodes_ or _vertices_ of this graph; the pairs are _edges_, or arrows that connect vertices. That's why the final output objects are named `V_names` (for vertex names) and `edges` (for the vertex-to-vertex relationships). The process or calculation to ensure that both $(a, b)$ and $(b, a)$ are contained in `edges` is sometimes referred to as _symmetrizing_ the graph: it ensures that if an edge $a \\rightarrow b$ exists, then so does $b \\rightarrow a$. If that's true for all edges, then the graph is _undirected_. The Wikipedia page linked to above explains these terms with some examples and helpful pictures, so take a moment to review that material before moving on.\n",
    "\n",
    "We'll also refer to this collection of vertices and edges as the _connectivity graph_."
   ]
  },
  {
   "cell_type": "markdown",
   "metadata": {},
   "source": [
    "## Sparse matrix storage: Baseline methods\n",
    "\n",
    "Let's start by reminding ourselves how our previous method for storing sparse matrices, based on nested default dictionaries, works and performs."
   ]
  },
  {
   "cell_type": "code",
   "execution_count": 94,
   "metadata": {},
   "outputs": [],
   "source": [
    "def sparse_matrix(base_type=float):\n",
    "    \"\"\"Returns a sparse matrix using nested default dictionaries.\"\"\"\n",
    "    from collections import defaultdict\n",
    "    return defaultdict(lambda: defaultdict (base_type))\n",
    "\n",
    "def dense_vector(init, base_type=float):\n",
    "    \"\"\"\n",
    "    Returns a dense vector, either of a given length\n",
    "    and initialized to 0 values or using a given list\n",
    "    of initial values.\n",
    "    \"\"\"\n",
    "    # Case 1: `init` is a list of initial values for the vector entries\n",
    "    if type(init) is list:\n",
    "        initial_values = init\n",
    "        return [base_type(x) for x in initial_values]\n",
    "    \n",
    "    # Else, case 2: `init` is a vector length.\n",
    "    assert type(init) is int\n",
    "    return [base_type(0)] * init"
   ]
  },
  {
   "cell_type": "markdown",
   "metadata": {},
   "source": [
    "Implement a function to compute $y \\leftarrow A x$. Assume that the keys of the sparse matrix data structure are integers in the interval $[0, s)$ where $s$ is the number of rows or columns as appropriate."
   ]
  },
  {
   "cell_type": "code",
   "execution_count": 98,
   "metadata": {},
   "outputs": [],
   "source": [
    "def spmv(A, x, num_rows=None): \n",
    "    if num_rows is None:\n",
    "        num_rows = max(A.keys()) + 1\n",
    "    y = dense_vector(num_rows) \n",
    "    \n",
    "    # Recall: y = A*x is, conceptually,\n",
    "    # for all i, y[i] == sum over all j of (A[i, j] * x[j])\n",
    "    for i, row_i in A.items():\n",
    "        s = 0.\n",
    "        for j, a_ij in row_i.items():\n",
    "            s += a_ij * x[j]\n",
    "        y[i] = s\n",
    "    \n",
    "    return y"
   ]
  },
  {
   "cell_type": "code",
   "execution_count": 99,
   "metadata": {},
   "outputs": [
    {
     "name": "stdout",
     "output_type": "stream",
     "text": [
      "==> A: defaultdict(<function sparse_matrix.<locals>.<lambda> at 0x14de0c8c8>, {0: defaultdict(<class 'float'>, {1: -2.5, 2: 1.2}), 1: defaultdict(<class 'float'>, {0: 0.1, 1: 1.0}), 2: defaultdict(<class 'float'>, {0: 6.0, 1: -1.0})})\n",
      "==> x: [1.0, 2.0, 3.0]\n",
      "==> True solution, y0: [-1.4, 2.1, 4.0]\n",
      "==> Your solution, y: [-1.4000000000000004, 2.1, 4.0]\n",
      "==> Residual (infinity norm): 4.440892098500626e-16\n",
      "\n",
      "(Passed.)\n"
     ]
    }
   ],
   "source": [
    "# Test cell: `spmv_baseline_test`\n",
    "\n",
    "#   / 0.   -2.5   1.2 \\   / 1. \\   / -1.4 \\\n",
    "#   | 0.1   1.    0.  | * | 2. | = |  2.1 |\n",
    "#   \\ 6.   -1.    0.  /   \\ 3. /   \\  4.0 /\n",
    "\n",
    "A = sparse_matrix ()\n",
    "A[0][1] = -2.5\n",
    "A[0][2] = 1.2\n",
    "A[1][0] = 0.1\n",
    "A[1][1] = 1.\n",
    "A[2][0] = 6.\n",
    "A[2][1] = -1.\n",
    "\n",
    "x = dense_vector ([1, 2, 3])\n",
    "y0 = dense_vector ([-1.4, 2.1, 4.0])\n",
    "\n",
    "\n",
    "# Try your code:\n",
    "y = spmv(A, x)\n",
    "\n",
    "max_abs_residual = max([abs(a-b) for a, b in zip(y, y0)])\n",
    "\n",
    "print (\"==> A:\", A)\n",
    "print (\"==> x:\", x)\n",
    "print (\"==> True solution, y0:\", y0)\n",
    "print (\"==> Your solution, y:\", y)\n",
    "print (\"==> Residual (infinity norm):\", max_abs_residual)\n",
    "assert max_abs_residual <= 1e-14\n",
    "\n",
    "print (\"\\n(Passed.)\")"
   ]
  },
  {
   "cell_type": "markdown",
   "metadata": {},
   "source": [
    "Next, let's convert the `edges` input into a sparse matrix representing its connectivity graph. To do so, we'll first want to map names to integers."
   ]
  },
  {
   "cell_type": "code",
   "execution_count": 100,
   "metadata": {},
   "outputs": [
    {
     "name": "stdout",
     "output_type": "stream",
     "text": [
      "Name 6f9xCzChuA5eBoxoR6EmAQ -> Vertex id 0\n",
      "Name ewh-CFP1QbNwQYYHgVzUQA -> Vertex id 1\n",
      "Name xB-SHFYA51Z1Wdgo3sfhLA -> Vertex id 2\n",
      "Name 7i8MGa7zyWmaQli6o2-29g -> Vertex id 3\n",
      "Name XkSmuw2BsO7BQRgsDy2dpg -> Vertex id 4\n",
      "Name MIfFlE0lfB6KWGE8unFEpg -> Vertex id 5\n",
      "...\n"
     ]
    }
   ],
   "source": [
    "id2name = {} # id2name[id] == name\n",
    "name2id = {} # name2id[name] == id\n",
    "\n",
    "for k, v in enumerate (V_names):\n",
    "    # for debugging\n",
    "    if k <= 5: print (\"Name %s -> Vertex id %d\" % (v, k))\n",
    "    if k == 6: print (\"...\")\n",
    "        \n",
    "    id2name[k] = v\n",
    "    name2id[v] = k"
   ]
  },
  {
   "cell_type": "markdown",
   "metadata": {},
   "source": [
    "Given `id2name` and `name2id` as computed above, convert `edges` into a sparse matrix, `G`, where there is an entry `G[s][t] == 1.0` wherever an edge `(s, t)` exists.\n",
    "\n",
    "**Note** - This step might take time for the kernel to process as there are 1 million rows"
   ]
  },
  {
   "cell_type": "code",
   "execution_count": 101,
   "metadata": {},
   "outputs": [],
   "source": [
    "G = sparse_matrix()\n",
    "for i in range(len(edges)):\n",
    "    s = edges['Source'].iloc[i]\n",
    "    t = edges['Target'].iloc[i]\n",
    "    s_id = name2id[s]\n",
    "    t_id = name2id[t]\n",
    "    G[s_id][t_id] = 1.0"
   ]
  },
  {
   "cell_type": "code",
   "execution_count": 102,
   "metadata": {},
   "outputs": [
    {
     "name": "stdout",
     "output_type": "stream",
     "text": [
      "G has 107456 vertices and 882640 edges.\n",
      "\n",
      "(Passed.)\n"
     ]
    }
   ],
   "source": [
    "# Test cell: `edges2spmat1_test`\n",
    "\n",
    "G_rows_nnz = [len(row_i) for row_i in G.values()]\n",
    "print (\"G has {} vertices and {} edges.\".format(len(G.keys()), sum(G_rows_nnz)))\n",
    "\n",
    "assert len(G.keys()) == num_verts\n",
    "assert sum(G_rows_nnz) == num_edges\n",
    "\n",
    "# Check a random sample\n",
    "for k in sample(range(num_edges), 1000):\n",
    "    i = name2id[edges['Source'].iloc[k]]\n",
    "    j = name2id[edges['Target'].iloc[k]]\n",
    "    assert i in G\n",
    "    assert j in G[i]\n",
    "    assert G[i][j] == 1.0\n",
    "\n",
    "print (\"\\n(Passed.)\")"
   ]
  },
  {
   "cell_type": "markdown",
   "metadata": {},
   "source": [
    "In the above, we asked you to construct `G` using integer keys. However, since we are, after all, using default dictionaries, we could also use the vertex _names_ as keys. Construct a new sparse matrix, `H`, which uses the vertex names as keys instead of integers."
   ]
  },
  {
   "cell_type": "code",
   "execution_count": 109,
   "metadata": {},
   "outputs": [],
   "source": [
    "H = sparse_matrix()\n",
    "\n",
    "for i in range(len(edges)):\n",
    "    s = edges['Source'].iloc[i]\n",
    "    t = edges['Target'].iloc[i]\n",
    "    H[s][t] = 1.0"
   ]
  },
  {
   "cell_type": "code",
   "execution_count": 110,
   "metadata": {},
   "outputs": [
    {
     "name": "stdout",
     "output_type": "stream",
     "text": [
      "`H` has 107456 vertices and 882640 edges.\n",
      "\n",
      "(Passed.)\n"
     ]
    }
   ],
   "source": [
    "# Test cell: `create_H_test`\n",
    "\n",
    "H_rows_nnz = [len(h) for h in H.values()]\n",
    "print(\"`H` has {} vertices and {} edges.\".format(len(H.keys()), sum(H_rows_nnz)))\n",
    "\n",
    "assert len(H.keys()) == num_verts\n",
    "assert sum(H_rows_nnz) == num_edges\n",
    "\n",
    "# Check a random sample\n",
    "for i in sample(G.keys(), 100):\n",
    "    i_name = id2name[i]\n",
    "    assert i_name in H\n",
    "    assert len(G[i]) == len(H[i_name])\n",
    "    \n",
    "print (\"\\n(Passed.)\")"
   ]
  },
  {
   "cell_type": "markdown",
   "metadata": {},
   "source": [
    "Implement a sparse matrix-vector multiply for matrices with named keys. In this case, it will be convenient to have vectors that also have named keys; assume we use dictionaries to hold these vectors as suggested in the code skeleton, below."
   ]
  },
  {
   "cell_type": "code",
   "execution_count": 112,
   "metadata": {},
   "outputs": [],
   "source": [
    "def vector_keyed(keys=None, values=0, base_type=float):\n",
    "    if keys is not None:\n",
    "        if type(values) is not list:\n",
    "            values = [base_type(values)] * len(keys)\n",
    "        else:\n",
    "            values = [base_type(v) for v in values]\n",
    "        x = dict(zip(keys, values))\n",
    "    else:\n",
    "        x = {}\n",
    "    return x\n",
    "\n",
    "def spmv_keyed(A, x):\n",
    "    \"\"\"Performs a sparse matrix-vector multiply for keyed matrices and vectors.\"\"\"\n",
    "    assert type(x) is dict\n",
    "    \n",
    "    y = vector_keyed(keys=A.keys(), values=0.0)\n",
    "    \n",
    "    for i, row_i in A.items():\n",
    "        s = 0.\n",
    "        for j, a_ij in row_i.items():\n",
    "            s += a_ij * x[j]\n",
    "        y[i] = s\n",
    "    return y"
   ]
  },
  {
   "cell_type": "code",
   "execution_count": 113,
   "metadata": {},
   "outputs": [
    {
     "name": "stdout",
     "output_type": "stream",
     "text": [
      "==> A_keyed: defaultdict(<function sparse_matrix.<locals>.<lambda> at 0x15b507488>, {'row': defaultdict(<class 'float'>, {'your': -2.5, 'boat': 1.2}), 'your': defaultdict(<class 'float'>, {'row': 0.1, 'your': 1.0}), 'boat': defaultdict(<class 'float'>, {'row': 6.0, 'your': -1.0})})\n",
      "==> x_keyed: {'row': 1.0, 'your': 2.0, 'boat': 3.0}\n",
      "==> True solution, y0_keyed: {'row': -1.4, 'your': 2.1, 'boat': 4.0}\n",
      "==> Your solution: {'row': -1.4000000000000004, 'your': 2.1, 'boat': 4.0}\n",
      "==> Residual (infinity norm): 4.440892098500626e-16\n",
      "\n",
      "(Passed.)\n"
     ]
    }
   ],
   "source": [
    "# Test cell: `spmv_keyed_test`\n",
    "\n",
    "#   'row':  / 0.   -2.5   1.2 \\   / 1. \\   / -1.4 \\\n",
    "#  'your':  | 0.1   1.    0.  | * | 2. | = |  2.1 |\n",
    "#  'boat':  \\ 6.   -1.    0.  /   \\ 3. /   \\  4.0 /\n",
    "\n",
    "KEYS = ['row', 'your', 'boat']\n",
    "\n",
    "A_keyed = sparse_matrix ()\n",
    "A_keyed['row']['your'] = -2.5\n",
    "A_keyed['row']['boat'] = 1.2\n",
    "A_keyed['your']['row'] = 0.1\n",
    "A_keyed['your']['your'] = 1.\n",
    "A_keyed['boat']['row'] = 6.\n",
    "A_keyed['boat']['your'] = -1.\n",
    "\n",
    "x_keyed = vector_keyed (KEYS, [1, 2, 3])\n",
    "y0_keyed = vector_keyed (KEYS, [-1.4, 2.1, 4.0])\n",
    "\n",
    "\n",
    "# Try your code:\n",
    "y_keyed = spmv_keyed (A_keyed, x_keyed)\n",
    "\n",
    "# Measure the residual:\n",
    "residuals = [(y_keyed[k] - y0_keyed[k]) for k in KEYS]\n",
    "max_abs_residual = max ([abs (r) for r in residuals])\n",
    "\n",
    "print (\"==> A_keyed:\", A_keyed)\n",
    "print (\"==> x_keyed:\", x_keyed)\n",
    "print (\"==> True solution, y0_keyed:\", y0_keyed)\n",
    "print (\"==> Your solution:\", y_keyed)\n",
    "print (\"==> Residual (infinity norm):\", max_abs_residual)\n",
    "assert max_abs_residual <= 1e-14\n",
    "\n",
    "print (\"\\n(Passed.)\")"
   ]
  },
  {
   "cell_type": "code",
   "execution_count": 114,
   "metadata": {},
   "outputs": [
    {
     "name": "stdout",
     "output_type": "stream",
     "text": [
      "217 ms ± 5.3 ms per loop (mean ± std. dev. of 7 runs, 1 loop each)\n",
      "330 ms ± 5.11 ms per loop (mean ± std. dev. of 7 runs, 1 loop each)\n"
     ]
    }
   ],
   "source": [
    "x = dense_vector ([1.] * num_verts)\n",
    "%timeit spmv (G, x)\n",
    "\n",
    "x_keyed = vector_keyed (keys=[v for v in V_names], values=1.)\n",
    "%timeit spmv_keyed (H, x_keyed)"
   ]
  },
  {
   "cell_type": "code",
   "execution_count": null,
   "metadata": {},
   "outputs": [],
   "source": []
  }
 ],
 "metadata": {
  "anaconda-cloud": [],
  "celltoolbar": "Create Assignment",
  "kernelspec": {
   "display_name": "Python 3",
   "language": "python",
   "name": "python3"
  },
  "language_info": {
   "codemirror_mode": {
    "name": "ipython",
    "version": 3
   },
   "file_extension": ".py",
   "mimetype": "text/x-python",
   "name": "python",
   "nbconvert_exporter": "python",
   "pygments_lexer": "ipython3",
   "version": "3.7.1"
  }
 },
 "nbformat": 4,
 "nbformat_minor": 1
}
