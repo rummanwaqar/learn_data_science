{
 "cells": [
  {
   "cell_type": "markdown",
   "metadata": {},
   "source": [
    "# Regular expressions\n",
    "\n",
    "[Cheatsheet](https://www.debuggex.com/cheatsheet/regex/python)"
   ]
  },
  {
   "cell_type": "code",
   "execution_count": 1,
   "metadata": {},
   "outputs": [],
   "source": [
    "import re"
   ]
  },
  {
   "cell_type": "markdown",
   "metadata": {},
   "source": [
    "## Part 0 - Basics (email & phone)\n",
    "\n",
    "General problem of finding patterns in text. A handy tool for this problem is Python's regular expression module.\n",
    "\n",
    "A regular expression is specially formatted pattern, written as a string. Matching patterns with regular expressions has 3 steps:\n",
    "\n",
    "1. You come up with a pattern to find.\n",
    "2. You compile it into a pattern object.\n",
    "3. You apply the pattern object to a string, to find matches, i.e., instances of the pattern within the string."
   ]
  },
  {
   "cell_type": "markdown",
   "metadata": {},
   "source": [
    "### Basics\n",
    "\n",
    "Let's see how this scheme works for the simplest case, in which the pattern is an exact substring."
   ]
  },
  {
   "cell_type": "code",
   "execution_count": 2,
   "metadata": {},
   "outputs": [
    {
     "name": "stdout",
     "output_type": "stream",
     "text": [
      "<re.Match object; span=(16, 19), match='fox'>\n",
      "fox\n",
      "16\n",
      "19\n",
      "(16, 19)\n"
     ]
    }
   ],
   "source": [
    "pattern = 'fox'\n",
    "pattern_matcher = re.compile(pattern)\n",
    "\n",
    "input = 'The quick brown fox jumps over the lazy dog'\n",
    "matches = pattern_matcher.search(input)\n",
    "print(matches)\n",
    "print(matches.group())\n",
    "print(matches.start())\n",
    "print(matches.end())\n",
    "print(matches.span())"
   ]
  },
  {
   "cell_type": "markdown",
   "metadata": {},
   "source": [
    "**Module-level searching.** For infrequently used patterns, you can also skip creating the pattern object and just call the module-level search function, `re.search()`."
   ]
  },
  {
   "cell_type": "code",
   "execution_count": 3,
   "metadata": {},
   "outputs": [
    {
     "name": "stdout",
     "output_type": "stream",
     "text": [
      "Found jump @ (20, 24)\n"
     ]
    }
   ],
   "source": [
    "matches_2 = re.search ('jump', input)\n",
    "assert matches_2 is not None\n",
    "print (\"Found\", matches_2.group (), \"@\", matches_2.span ())"
   ]
  },
  {
   "cell_type": "markdown",
   "metadata": {},
   "source": [
    "**Other Search Methods**\n",
    "1. match() - \tDetermine if the RE matches at the beginning of the string.\n",
    "2. search() - \tScan through a string, looking for any location where this RE matches.\n",
    "3. findall() - \tFind all substrings where the RE matches, and returns them as a list.\n",
    "4. finditer() -\tFind all substrings where the RE matches, and returns them as an iterator."
   ]
  },
  {
   "cell_type": "markdown",
   "metadata": {},
   "source": [
    "**Creating pattern groups** "
   ]
  },
  {
   "cell_type": "code",
   "execution_count": 4,
   "metadata": {},
   "outputs": [
    {
     "name": "stdout",
     "output_type": "stream",
     "text": [
      "('Rich', None, 'Vuduc')\n",
      "('Rich', 'S ', 'Vuduc')\n",
      "('Rich', 'Salamander ', 'Vuduc')\n"
     ]
    }
   ],
   "source": [
    "re_names2 = re.compile ('''^              # Beginning of string\n",
    "                           ([a-zA-Z]+)    # First name\n",
    "                           \\s+            # At least one space\n",
    "                           ([a-zA-Z]+\\s)? # Optional middle name\n",
    "                           ([a-zA-Z]+)    # Last name\n",
    "                           $              # End of string\n",
    "                        ''',\n",
    "                        re.VERBOSE)\n",
    "print (re_names2.match ('Rich Vuduc').groups ())\n",
    "print (re_names2.match ('Rich S Vuduc').groups ())\n",
    "print (re_names2.match ('Rich Salamander Vuduc').groups ())"
   ]
  },
  {
   "cell_type": "markdown",
   "metadata": {},
   "source": [
    "**Tagging pattern groups**"
   ]
  },
  {
   "cell_type": "code",
   "execution_count": 5,
   "metadata": {},
   "outputs": [
    {
     "name": "stdout",
     "output_type": "stream",
     "text": [
      "Rich\n",
      "S \n",
      "Vuduc\n"
     ]
    }
   ],
   "source": [
    "# Named groups\n",
    "re_names3 = re.compile ('''^\n",
    "                           (?P<first>[a-zA-Z]+)\n",
    "                           \\s\n",
    "                           (?P<middle>[a-zA-Z]+\\s)?\n",
    "                           \\s*\n",
    "                           (?P<last>[a-zA-Z]+)\n",
    "                           $\n",
    "                        ''',\n",
    "                        re.VERBOSE)\n",
    "print (re_names3.match ('Rich Vuduc').group ('first'))\n",
    "print (re_names3.match ('Rich S Vuduc').group ('middle'))\n",
    "print (re_names3.match ('Rich Salamander Vuduc').group ('last'))"
   ]
  },
  {
   "cell_type": "markdown",
   "metadata": {},
   "source": [
    "### Email addresses\n",
    "\n",
    "In the next exercise, you'll apply what you've learned about regular expressions to build a pattern matcher for email addresses.\n",
    "\n",
    "Although there is a [formal specification of what constitutes a valid email address](https://tools.ietf.org/html/rfc5322#section-3.4.1), for this exercise, let's use the following simplified rules.\n",
    "\n",
    "* We will restrict our attention to ASCII addresses and ignore Unicode. If you don't know what that means, don't worry about it---you shouldn't need to do anything special given our code templates, below.\n",
    "* An email address has two parts, the username and the domain name. These are separated by an `@` character.\n",
    "* A username **must begin with an alphabetic** character. It may be followed by any number of additional _alphanumeric_ characters or any of the following special characters: `.` (period), `-` (hyphen), `_` (underscore), or `+` (plus).\n",
    "* A domain name **must end with an alphabetic** character. It may consist of any of the following characters: alphanumeric characters, `.` (period), `-` (hyphen), or `_` (underscore).\n",
    "* Alphabetic characters may be uppercase or lowercase.\n",
    "* No whitespace characters are allowed.\n",
    "\n",
    "Valid domain names usually have additional restrictions, e.g., there are a limited number of endings, such as `.com`, `.edu`, and so on. However, for this exercise you may ignore this fact."
   ]
  },
  {
   "cell_type": "code",
   "execution_count": 6,
   "metadata": {},
   "outputs": [],
   "source": [
    "def parse_email (s):\n",
    "    \"\"\"Parses a string as an email address, returning an (id, domain) pair.\"\"\"\n",
    "    pattern = '''\n",
    "        ^\n",
    "        (?P<user>[a-zA-Z][\\w.\\-+]*)\n",
    "        @\n",
    "        (?P<domain>[\\w.\\-]*[a-zA-Z])\n",
    "        $\n",
    "    '''\n",
    "    matcher = re.compile(pattern, re.VERBOSE)\n",
    "    matches = matcher.match(s)\n",
    "    if matches:\n",
    "        return matches.group('user'), matches.group('domain')\n",
    "    else:\n",
    "        raise ValueError(\"Bad email address\")\n"
   ]
  },
  {
   "cell_type": "code",
   "execution_count": 7,
   "metadata": {},
   "outputs": [
    {
     "name": "stdout",
     "output_type": "stream",
     "text": [
      "Testing valid email: 'richie@cc.gatech.edu'\n",
      "Testing valid email: 'bertha_hugely@sampson.edu'\n",
      "Testing valid email: 'JKRowling@Huge-Books.org'\n",
      "Testing invalid email: 'x @hpcgarage.org'\n",
      "==> Correctly throws an exception!\n",
      "Testing invalid email: '   quiggy.smith38x@gmail.com'\n",
      "==> Correctly throws an exception!\n",
      "Testing invalid email: 'richie@cc.gatech.edu  '\n",
      "==> Correctly throws an exception!\n",
      "Testing invalid email: '4test@gmail.com'\n",
      "==> Correctly throws an exception!\n",
      "Testing invalid email: 'richie@cc.gatech.edu7'\n",
      "==> Correctly throws an exception!\n"
     ]
    }
   ],
   "source": [
    "# Test cell: `parse_email_test`\n",
    "\n",
    "def pass_case(u, d):\n",
    "    s = u + '@' + d\n",
    "    msg = \"Testing valid email: '{}'\".format(s)\n",
    "    print(msg)\n",
    "    assert parse_email(s) == (u, d), msg\n",
    "    \n",
    "pass_case('richie', 'cc.gatech.edu')\n",
    "pass_case('bertha_hugely', 'sampson.edu')\n",
    "pass_case('JKRowling', 'Huge-Books.org')\n",
    "\n",
    "def fail_case(s):\n",
    "    msg = \"Testing invalid email: '{}'\".format(s)\n",
    "    print(msg)\n",
    "    try:\n",
    "        parse_email(s)\n",
    "    except ValueError:\n",
    "        print(\"==> Correctly throws an exception!\")\n",
    "    else:\n",
    "        raise AssertionError(\"Should have, but did not, throw an exception!\")\n",
    "        \n",
    "fail_case('x @hpcgarage.org')\n",
    "fail_case('   quiggy.smith38x@gmail.com')\n",
    "fail_case('richie@cc.gatech.edu  ')\n",
    "fail_case('4test@gmail.com')\n",
    "fail_case('richie@cc.gatech.edu7')"
   ]
  },
  {
   "cell_type": "markdown",
   "metadata": {},
   "source": [
    "### Phone numbers"
   ]
  },
  {
   "cell_type": "markdown",
   "metadata": {},
   "source": [
    "Write a function to parse US phone numbers written in the canonical \"(404) 555-1212\" format, i.e., a three-digit area code enclosed in parentheses followed by a seven-digit local number in three-hyphen-four digit format. It should also **ignore** all leading and trailing spaces, as well as any spaces that appear between the area code and local numbers. However, it should **not** accept any spaces in the area code (e.g., in '(404)') nor should it in the seven-digit local number.\n",
    "\n",
    "It should return a triple of strings, `(area_code, first_three, last_four)`. \n",
    "\n",
    "If the input is not a valid phone number, it should raise a `ValueError`."
   ]
  },
  {
   "cell_type": "code",
   "execution_count": 8,
   "metadata": {},
   "outputs": [],
   "source": [
    "def parse_phone1 (s):\n",
    "    pattern = '''\n",
    "        \\s*\n",
    "        \\((?P<area>\\d{3})\\) # area code\n",
    "        \\s*\n",
    "        (?P<local3>\\d{3})\n",
    "        -\n",
    "        (?P<local4>\\d{4})\n",
    "    '''\n",
    "    \n",
    "    matcher = re.compile(pattern, re.VERBOSE)\n",
    "    matches = matcher.match(s)\n",
    "    if matches:\n",
    "        return (matches.group('area'), \n",
    "                matches.group('local3'), \n",
    "                matches.group('local4'))\n",
    "    else:\n",
    "        raise ValueError(\"Bad phone number\")"
   ]
  },
  {
   "cell_type": "code",
   "execution_count": 9,
   "metadata": {},
   "outputs": [
    {
     "name": "stdout",
     "output_type": "stream",
     "text": [
      "Should pass: '(404) 121-2121'\n",
      "Should pass: '(404)121-2121'\n",
      "Should pass: '  (876)     546-0975 '\n",
      "Should pass: '(100)   033-1071'\n",
      "Should pass: '(277)805-9992'\n",
      "Should pass: '     (809)  750-4377  '\n",
      "Should pass: '  (320) 524-5980 '\n",
      "Should fail: '404-121-2121'\n",
      "==> Correctly throws an exception.\n",
      "Should fail: '(404)555 -1212'\n",
      "==> Correctly throws an exception.\n",
      "Should fail: ' ( 404)121-2121'\n",
      "==> Correctly throws an exception.\n",
      "Should fail: '(abc) def-ghij'\n",
      "==> Correctly throws an exception.\n"
     ]
    }
   ],
   "source": [
    "# Test cell: `parse_phone1_test`\n",
    "\n",
    "def rand_spaces(m=5):\n",
    "    from random import randint\n",
    "    return ' ' * randint(0, m)\n",
    "\n",
    "def asm_phone(a, l, r):\n",
    "    return rand_spaces() + '(' + a + ')' + rand_spaces() + l + '-' + r + rand_spaces()\n",
    "\n",
    "def gen_digits(k):\n",
    "    from random import choice # 3.5 compatible; 3.6 has `choices()`\n",
    "    DIGITS = '0123456789'\n",
    "    return ''.join([choice(DIGITS) for _ in range(k)])\n",
    "\n",
    "def pass_phone(p=None, a=None, l=None, r=None):\n",
    "    if p is None:\n",
    "        a = gen_digits(3)\n",
    "        l = gen_digits(3)\n",
    "        r = gen_digits(4)\n",
    "        p = asm_phone(a, l, r)\n",
    "    else:\n",
    "        assert a is not None and l is not None and r is not None, \"Need to supply sample solution.\"\n",
    "    msg = \"Should pass: '{}'\".format(p)\n",
    "    print(msg)\n",
    "    p_you = parse_phone1(p)\n",
    "    assert p_you == (a, l, r), \"Got {} instead of ('{}', '{}', '{}')\".format(p_you, a, l, r)\n",
    "    \n",
    "def fail_phone(s):\n",
    "    msg = \"Should fail: '{}'\".format(s)\n",
    "    print(msg)\n",
    "    try:\n",
    "        p_you = parse_phone1(s)\n",
    "    except ValueError:\n",
    "        print(\"==> Correctly throws an exception.\")\n",
    "    else:\n",
    "        raise AssertionError(\"Failed to throw a `ValueError` exception!\")\n",
    "\n",
    "\n",
    "# Cases that should definitely pass:\n",
    "pass_phone('(404) 121-2121', '404', '121', '2121')\n",
    "pass_phone('(404)121-2121', '404', '121', '2121')\n",
    "for _ in range(5):\n",
    "    pass_phone()\n",
    "    \n",
    "fail_phone(\"404-121-2121\")\n",
    "fail_phone('(404)555 -1212')\n",
    "fail_phone(\" ( 404)121-2121\")\n",
    "fail_phone(\"(abc) def-ghij\")"
   ]
  },
  {
   "cell_type": "markdown",
   "metadata": {},
   "source": [
    "**Implement an enhanced phone number parser that can handle any of these patterns.**\n",
    "\n",
    "* (404) 555-1212\n",
    "* (404) 5551212\n",
    "* 404-555-1212\n",
    "* 404-5551212\n",
    "* 404555-1212\n",
    "* 4045551212\n",
    "\n",
    "As before, it should not be sensitive to leading or trailing spaces. Also, for the patterns in which the area code is enclosed in parentheses, it should not be sensitive to the number of spaces separating the area code from the remainder of the number."
   ]
  },
  {
   "cell_type": "code",
   "execution_count": 10,
   "metadata": {},
   "outputs": [],
   "source": [
    "def parse_phone2(s):\n",
    "    pattern = '''\n",
    "        \\s*\n",
    "        (?P<area>  # area code\n",
    "            \\d{3}-?\n",
    "            | \\(\\d{3}\\)\\s*\n",
    "        )\n",
    "        (?P<local3>\\d{3})\n",
    "        -?\n",
    "        (?P<local4>\\d{4})\n",
    "    '''\n",
    "    matcher = re.compile(pattern, re.VERBOSE)\n",
    "    matches = matcher.match(s)\n",
    "    if not matches:\n",
    "        raise ValueError(\"Bad phone number\")\n",
    "    \n",
    "    areacode = re.search('\\d{3}', matches.group('area')).group()\n",
    "    local3 = matches.group('local3')\n",
    "    local4 = matches.group('local4')\n",
    "\n",
    "    return areacode, local3, local4\n"
   ]
  },
  {
   "cell_type": "code",
   "execution_count": 11,
   "metadata": {},
   "outputs": [
    {
     "name": "stdout",
     "output_type": "stream",
     "text": [
      "Should pass: '  (404)   555-1212  '\n",
      "Should pass: '(404)555-1212  '\n",
      "Should pass: '  404-555-1212 '\n",
      "Should pass: '  404-5551212 '\n",
      "Should pass: ' 4045551212'\n",
      "Should pass: '     3255447355     '\n",
      "Should pass: ' 000-4647826   '\n",
      "Should pass: ' 5491367117  '\n",
      "Should pass: '   3573108177    '\n",
      "Should pass: '  352-3237936   '\n",
      "Should fail: '+1 (404) 555-3355'\n",
      "==> Function correctly raised an exception.\n",
      "Should fail: '404.555.3355'\n",
      "==> Function correctly raised an exception.\n",
      "Should fail: '404 555-3355'\n",
      "==> Function correctly raised an exception.\n",
      "Should fail: '404 555 3355'\n",
      "==> Function correctly raised an exception.\n",
      "Should fail: '(404-555-1212'\n",
      "==> Function correctly raised an exception.\n",
      "\n",
      "(Passed!)\n"
     ]
    }
   ],
   "source": [
    "# Test cell: `parse_phone2_test`\n",
    "\n",
    "def asm_phone2(a, l, r):\n",
    "    from random import random\n",
    "    x = random()\n",
    "    if x < 0.33:\n",
    "        a2 = '(' + a + ')' + rand_spaces()\n",
    "    elif x < 0.67:\n",
    "        a2 = a + '-'\n",
    "    else:\n",
    "        a2 = a\n",
    "    y = random()\n",
    "    if y < 0.5:\n",
    "        l2 = l + '-'\n",
    "    else:\n",
    "        l2 = l\n",
    "    return rand_spaces() + a2 + l2 + r + rand_spaces()\n",
    "\n",
    "def pass_phone2(p=None, a=None, l=None, r=None):\n",
    "    if p is None:\n",
    "        a = gen_digits(3)\n",
    "        l = gen_digits(3)\n",
    "        r = gen_digits(4)\n",
    "        p = asm_phone2(a, l, r)\n",
    "    else:\n",
    "        assert a is not None and l is not None and r is not None, \"Need to supply sample solution.\"\n",
    "    msg = \"Should pass: '{}'\".format(p)\n",
    "    print(msg)\n",
    "    p_you = parse_phone2(p)\n",
    "    assert p_you == (a, l, r), \"Got {} instead of ('{}', '{}', '{}')\".format(p_you, a, l, r)\n",
    "    \n",
    "pass_phone2(\"  (404)   555-1212  \", '404', '555', '1212')\n",
    "pass_phone2(\"(404)555-1212  \", '404', '555', '1212')\n",
    "pass_phone2(\"  404-555-1212 \", '404', '555', '1212')\n",
    "pass_phone2(\"  404-5551212 \", '404', '555', '1212')\n",
    "pass_phone2(\" 4045551212\", '404', '555', '1212')\n",
    "    \n",
    "for _ in range(5):\n",
    "    pass_phone2()\n",
    "    \n",
    "    \n",
    "def fail_phone2(s):\n",
    "    msg = \"Should fail: '{}'\".format(s)\n",
    "    print(msg)\n",
    "    try:\n",
    "        parse_phone2 (s)\n",
    "    except ValueError:\n",
    "        print (\"==> Function correctly raised an exception.\")\n",
    "    else:\n",
    "        raise AssertionError (\"Function did *not* raise an exception as expected!\")\n",
    "        \n",
    "failure_cases = ['+1 (404) 555-3355',\n",
    "                 '404.555.3355',\n",
    "                 '404 555-3355',\n",
    "                 '404 555 3355',\n",
    "                 '(404-555-1212'\n",
    "                ]\n",
    "for s in failure_cases:\n",
    "    fail_phone2(s)\n",
    "    \n",
    "print(\"\\n(Passed!)\")"
   ]
  },
  {
   "cell_type": "markdown",
   "metadata": {},
   "source": [
    "## Part 1: Processing an HTML file\n",
    "\n",
    "One of the richest sources of information is [the Web](http://www.computerhistory.org/revolution/networking/19/314)!\n",
    "\n",
    "We ask you to use string processing and regular expressions to mine a web page, which is stored in HTML format."
   ]
  },
  {
   "cell_type": "markdown",
   "metadata": {},
   "source": [
    "**The data: Yelp! reviews.** The data you will work with is a snapshot of a recent search on the [Yelp! site](https://yelp.com) for the best fried chicken restaurants in Atlanta. That snapshot is hosted here: https://cse6040.gatech.edu/datasets/yelp-example\n",
    "\n",
    "If you go ahead and open that site, you'll see that it contains a ranked list of places:\n",
    "\n",
    "![Top 10 Fried Chicken Spots in ATL as of September 12, 2017](https://cse6040.gatech.edu/datasets/yelp-example/ranked-list-snapshot.png)"
   ]
  },
  {
   "cell_type": "markdown",
   "metadata": {},
   "source": [
    "## Getting the data\n",
    "\n",
    "First things first: you need an HTML file. The following Python code will download a particular web page that we've prepared for this exercise and store it locally in a file.\n",
    "\n",
    "> If the file exists, this command will not overwrite it. By not doing so, we can reduce accesses to the server that hosts the file. Also, if an error occurs during the download, this cell may report that the downloaded file is corrupt; in that case, you should try re-running the cell."
   ]
  },
  {
   "cell_type": "code",
   "execution_count": 12,
   "metadata": {},
   "outputs": [
    {
     "name": "stdout",
     "output_type": "stream",
     "text": [
      "'yelp.htm' is ready!\n"
     ]
    }
   ],
   "source": [
    "import requests\n",
    "import os\n",
    "import hashlib\n",
    "\n",
    "if os.path.exists('.voc'):\n",
    "    data_url = 'https://cse6040.gatech.edu/datasets/yelp-example/yelp.htm'\n",
    "else:\n",
    "    data_url = 'https://github.com/cse6040/labs-fa17/raw/master/datasets/yelp.htm'\n",
    "\n",
    "if not os.path.exists('yelp.htm'):\n",
    "    print(\"Downloading: {} ...\".format(data_url))\n",
    "    r = requests.get(data_url)\n",
    "    with open('yelp.htm', 'w', encoding=r.encoding) as f:\n",
    "        f.write(r.text)\n",
    "\n",
    "with open('yelp.htm', 'r', encoding='utf-8') as f:\n",
    "    yelp_html = f.read().encode(encoding='utf-8')\n",
    "    checksum = hashlib.md5(yelp_html).hexdigest()\n",
    "    assert checksum == \"4a74a0ee9cefee773e76a22a52d45a8e\", \"Downloaded file has incorrect checksum!\"\n",
    "    \n",
    "print(\"'yelp.htm' is ready!\")"
   ]
  },
  {
   "cell_type": "markdown",
   "metadata": {},
   "source": [
    "**Reading the HTML file into a Python string.** Let's also open the file in Python and read its contents into a string named, `yelp_html`."
   ]
  },
  {
   "cell_type": "code",
   "execution_count": 13,
   "metadata": {},
   "outputs": [
    {
     "name": "stdout",
     "output_type": "stream",
     "text": [
      "*** type(yelp_html) == <class 'str'> ***\n",
      "*** Contents (first 1000 characters) ***\n",
      "<!DOCTYPE html>\n",
      "<!-- saved from url=(0079)https://www.yelp.com/search?find_desc=fried+chicken&find_loc=Atlanta%2C+GA&ns=1 -->\n",
      "<html xmlns:fb=\"http://www.facebook.com/2008/fbml\" class=\"js gr__yelp_com\" lang=\"en\"><!--<![endif]--><head data-component-bound=\"true\"><meta http-equiv=\"Content-Type\" content=\"text/html; charset=UTF-8\"><link type=\"text/css\" rel=\"stylesheet\" href=\"./Best Fried chicken in Atlanta, GA - Yelp_files/css\"><style type=\"text/css\">.gm-style .gm-style-cc span,.gm-style .gm-style-cc a,.gm-style .gm-style-mtc div{font-size:10px}\n",
      "</style><style type=\"text/css\">@media print {  .gm-style .gmnoprint, .gmnoprint {    display:none  }}@media screen {  .gm-style .gmnoscreen, .gmnoscreen {    display:none  }}</style><style type=\"text/css\">.gm-style-pbc{transition:opacity ease-in-out;background-color:rgba(0,0,0,0.45);text-align:center}.gm-style-pbt{font-size:22px;color:white;font-family:Roboto,Arial,sans-serif;position:relative;margin:0;top:50%;-webkit-transform:translateY(-50%);-ms- ...\n"
     ]
    }
   ],
   "source": [
    "with open('yelp.htm', 'r', encoding='utf-8') as yelp_file:\n",
    "    yelp_html = yelp_file.read()\n",
    "    \n",
    "# Print first few hundred characters of this string:\n",
    "print(\"*** type(yelp_html) == {} ***\".format(type(yelp_html)))\n",
    "n = 1000\n",
    "print(\"*** Contents (first {} characters) ***\\n{} ...\".format(n, yelp_html[:n]))"
   ]
  },
  {
   "cell_type": "markdown",
   "metadata": {},
   "source": [
    "### Extracting the ranking\n",
    "\n",
    "Write some Python code to create a variable named `rankings`, which is a list of dictionaries set up as follows:\n",
    "\n",
    "* `rankings[i]` is a dictionary corresponding to the restaurant whose rank is `i+1`. For example, from the screenshot above, `rankings[0]` should be a dictionary with information about Gus's World Famous Fried Chicken.\n",
    "* Each dictionary, `rankings[i]`, should have these keys:\n",
    "    * `rankings[i]['name']`: The name of the restaurant, a string.\n",
    "    * `rankings[i]['stars']`: The star rating, as a string, e.g., `'4.5'`, `'4.0'`\n",
    "    * `rankings[i]['numrevs']`: The number of reviews, as an **integer.**\n",
    "    * `rankings[i]['price']`: The price range, as dollar signs, e.g., `'$'`, `'$$'`, `'$$$'`, or `'$$$$'`.\n",
    "    \n",
    "Of course, since the current topic is regular expressions, you might try to apply them (possibly combined with other string manipulation methods) find the particular patterns that yield the desired information."
   ]
  },
  {
   "cell_type": "code",
   "execution_count": 31,
   "metadata": {},
   "outputs": [],
   "source": [
    "sections = yelp_html.split('<span class=\"indexed-biz-name\">')\n",
    "\n",
    "\n",
    "patterns = {\n",
    "    'name': '''<a class=\"biz-name js-analytics-click\" data-analytics-label=\"biz-name\" href=\"[^\"]*\" data-hovercard-id=\"[^\"]*\"><span>(.+)</span></a>''',\n",
    "    'stars': '''title=\"([0-9.]+) star rating\"''',\n",
    "    'numrevs': '''(\\d+) reviews''',\n",
    "    'price': '''<span class=\"business-attribute price-range\">(\\$+)</span>'''\n",
    "}\n",
    "\n",
    "def get_field(s, key):\n",
    "    match = re.search(patterns[key], s)\n",
    "    if match is not None:\n",
    "        return match.groups()[0]\n",
    "    return None\n",
    "\n",
    "rankings = []\n",
    "for i, section in enumerate(sections[1:]):\n",
    "    rankings.append({})\n",
    "    for key in patterns.keys():\n",
    "        rankings[i][key] = get_field(section, key)\n",
    "\n",
    "for r in rankings:\n",
    "    r['numrevs'] = int(r['numrevs'])"
   ]
  },
  {
   "cell_type": "code",
   "execution_count": 32,
   "metadata": {},
   "outputs": [
    {
     "name": "stdout",
     "output_type": "stream",
     "text": [
      "=== Rankings ===\n",
      "1. Gus’s World Famous Fried Chicken ($$): 4.0 stars based on 549 reviews\n",
      "2. South City Kitchen - Midtown ($$): 4.5 stars based on 1777 reviews\n",
      "3. Mary Mac’s Tea Room ($$): 4.0 stars based on 2241 reviews\n",
      "4. Busy Bee Cafe ($$): 4.0 stars based on 481 reviews\n",
      "5. Richards’ Southern Fried ($$): 4.0 stars based on 108 reviews\n",
      "6. Greens &amp; Gravy ($$): 3.5 stars based on 93 reviews\n",
      "7. Colonnade Restaurant ($$): 4.0 stars based on 350 reviews\n",
      "8. South City Kitchen Buckhead ($$): 4.5 stars based on 248 reviews\n",
      "9. Poor Calvin’s ($$): 4.5 stars based on 1558 reviews\n",
      "10. Rock’s Chicken &amp; Fries ($): 4.0 stars based on 67 reviews\n",
      "\n",
      "(Passed!)\n"
     ]
    }
   ],
   "source": [
    "# Test cell: `rankings_test`\n",
    "\n",
    "assert type(rankings) is list, \"`rankings` must be a list\"\n",
    "assert all([type(r) is dict for r in rankings]), \"All `rankings[i]` must be dictionaries\"\n",
    "\n",
    "print(\"=== Rankings ===\")\n",
    "for i, r in enumerate(rankings):\n",
    "    print(\"{}. {} ({}): {} stars based on {} reviews\".format(i+1,\n",
    "                                                             r['name'],\n",
    "                                                             r['price'],\n",
    "                                                             r['stars'],\n",
    "                                                             r['numrevs']))\n",
    "\n",
    "assert rankings[0] == {'numrevs': 549, 'name': 'Gus’s World Famous Fried Chicken', 'stars': '4.0', 'price': '$$'}\n",
    "assert rankings[1] == {'numrevs': 1777, 'name': 'South City Kitchen - Midtown', 'stars': '4.5', 'price': '$$'}\n",
    "assert rankings[2] == {'numrevs': 2241, 'name': 'Mary Mac’s Tea Room', 'stars': '4.0', 'price': '$$'}\n",
    "assert rankings[3] == {'numrevs': 481, 'name': 'Busy Bee Cafe', 'stars': '4.0', 'price': '$$'}\n",
    "assert rankings[4] == {'numrevs': 108, 'name': 'Richards’ Southern Fried', 'stars': '4.0', 'price': '$$'}\n",
    "assert rankings[5] == {'numrevs': 93, 'name': 'Greens &amp; Gravy', 'stars': '3.5', 'price': '$$'}\n",
    "assert rankings[6] == {'numrevs': 350, 'name': 'Colonnade Restaurant', 'stars': '4.0', 'price': '$$'}\n",
    "assert rankings[7] == {'numrevs': 248, 'name': 'South City Kitchen Buckhead', 'stars': '4.5', 'price': '$$'}\n",
    "assert rankings[8] == {'numrevs': 1558, 'name': 'Poor Calvin’s', 'stars': '4.5', 'price': '$$'}\n",
    "assert rankings[9] == {'numrevs': 67, 'name': 'Rock’s Chicken &amp; Fries', 'stars': '4.0', 'price': '$'}\n",
    "\n",
    "print(\"\\n(Passed!)\")"
   ]
  },
  {
   "cell_type": "code",
   "execution_count": null,
   "metadata": {},
   "outputs": [],
   "source": []
  }
 ],
 "metadata": {
  "kernelspec": {
   "display_name": "Python 3",
   "language": "python",
   "name": "python3"
  },
  "language_info": {
   "codemirror_mode": {
    "name": "ipython",
    "version": 3
   },
   "file_extension": ".py",
   "mimetype": "text/x-python",
   "name": "python",
   "nbconvert_exporter": "python",
   "pygments_lexer": "ipython3",
   "version": "3.7.1"
  }
 },
 "nbformat": 4,
 "nbformat_minor": 2
}
